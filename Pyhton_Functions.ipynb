{
  "nbformat": 4,
  "nbformat_minor": 0,
  "metadata": {
    "colab": {
      "provenance": [],
      "authorship_tag": "ABX9TyPwyiR+HaG/BWKuDHtLYYB1",
      "include_colab_link": true
    },
    "kernelspec": {
      "name": "python3",
      "display_name": "Python 3"
    },
    "language_info": {
      "name": "python"
    }
  },
  "cells": [
    {
      "cell_type": "markdown",
      "metadata": {
        "id": "view-in-github",
        "colab_type": "text"
      },
      "source": [
        "<a href=\"https://colab.research.google.com/github/fdotingco/PLNG211-QC/blob/main/Pyhton_Functions.ipynb\" target=\"_parent\"><img src=\"https://colab.research.google.com/assets/colab-badge.svg\" alt=\"Open In Colab\"/></a>"
      ]
    },
    {
      "cell_type": "code",
      "execution_count": 9,
      "metadata": {
        "id": "7lt8AOg1J7II",
        "colab": {
          "base_uri": "https://localhost:8080/"
        },
        "outputId": "bff10057-1575-48f9-8480-6668c134794c"
      },
      "outputs": [
        {
          "output_type": "stream",
          "name": "stdout",
          "text": [
            "Enter Fahrenheit: 100\n",
            "Celsius: 37.78\n",
            "Kelvin: 310.93\n"
          ]
        }
      ],
      "source": [
        "#Writing your Own Function(Conversion)\n",
        "def convert_to_celsius(fahrenheit):\n",
        "  return(fahrenheit-32)*5/9\n",
        "\n",
        "def convert_to_kelvin(fahrenheit):\n",
        "   return ((fahrenheit-32)*5/9)+273.15\n",
        "\n",
        "fahrenheit = int(input(\"Enter Fahrenheit: \"))   \n",
        "\n",
        "print(\"Celsius:\",round(convert_to_celsius(fahrenheit),2))\n",
        "print(\"Kelvin:\",round(convert_to_kelvin(fahrenheit),2))"
      ]
    },
    {
      "cell_type": "code",
      "source": [
        "#Define\n",
        "def my_function(fname):\n",
        "  print(fname + \" Dotingco\")\n",
        "\n",
        "my_function(\"Frank\")\n",
        "my_function(\"Lynuel\")\n",
        "my_function(\"Frank Lynuel\")"
      ],
      "metadata": {
        "colab": {
          "base_uri": "https://localhost:8080/"
        },
        "id": "Z6IR_uV_RE9S",
        "outputId": "5af0f891-ce15-40a4-e79c-8da4af4bc1ea"
      },
      "execution_count": 11,
      "outputs": [
        {
          "output_type": "stream",
          "name": "stdout",
          "text": [
            "Frank Dotingco\n",
            "Lynuel Dotingco\n",
            "Frank Lynuel Dotingco\n"
          ]
        }
      ]
    },
    {
      "cell_type": "code",
      "source": [
        "#Return a value from an Arithmetic Expression\n",
        "\n",
        "def addFunction(x):\n",
        "  print(5 + x)\n",
        "\n",
        "x=int(input()) \n",
        "addFunction(x) "
      ],
      "metadata": {
        "colab": {
          "base_uri": "https://localhost:8080/"
        },
        "id": "Ffn02k84SMho",
        "outputId": "38b07492-5260-42ac-a7e9-10c03ff646d6"
      },
      "execution_count": 12,
      "outputs": [
        {
          "output_type": "stream",
          "name": "stdout",
          "text": [
            "9\n",
            "14\n"
          ]
        }
      ]
    },
    {
      "cell_type": "code",
      "source": [
        "#Exercise 1\n",
        "print(min(2, 3, 4))\n",
        "print(max(2, -3, 4, 7, -5))\n",
        "print(max(2, -3, min(4, 7), -5))"
      ],
      "metadata": {
        "colab": {
          "base_uri": "https://localhost:8080/"
        },
        "id": "D4ZGmq0WTf0B",
        "outputId": "158d65a2-e976-4645-a3e5-936a20e4b27e"
      },
      "execution_count": 17,
      "outputs": [
        {
          "output_type": "stream",
          "name": "stdout",
          "text": [
            "2\n",
            "7\n",
            "4\n"
          ]
        }
      ]
    },
    {
      "cell_type": "code",
      "source": [
        "#Exercise 2\n",
        "def mySum(n1,n2,n3):\n",
        "  return n1+n2+n3\n",
        "def myAverage(n1,n2,n3):\n",
        "  return round(((mySum(n1,n2,n3))/3), 2)\n",
        "def SumSq(n1,n2,n3):\n",
        "  return (n1*n1)+(n2*n2)+(n3*n3)\n",
        "\n",
        "n1 = int(input(\"Enter first integer: \"))\n",
        "n2 = int(input(\"Enter second integer: \"))\n",
        "n3 = int(input(\"Enter third integer: \"))\n",
        "\n",
        "print(\"\\n\")\n",
        "print(\"Sum: \", mySum(n1,n2,n3))\n",
        "print(\"Average: \", myAverage(n1,n2,n3))\n",
        "print(\"Sum of the Squares: \", SumSq(n1,n2,n3))"
      ],
      "metadata": {
        "colab": {
          "base_uri": "https://localhost:8080/"
        },
        "id": "gUAoJostTjYg",
        "outputId": "6c428c11-7758-4bbc-e17f-e5689477e2aa"
      },
      "execution_count": 34,
      "outputs": [
        {
          "output_type": "stream",
          "name": "stdout",
          "text": [
            "Enter first integer: 2\n",
            "Enter second integer: 3\n",
            "Enter third integer: 4\n",
            "\n",
            "\n",
            "Sum:  9\n",
            "Average:  3.0\n",
            "Sum of the Squares:  29\n"
          ]
        }
      ]
    }
  ]
}