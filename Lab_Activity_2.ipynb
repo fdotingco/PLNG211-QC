{
  "nbformat": 4,
  "nbformat_minor": 0,
  "metadata": {
    "colab": {
      "provenance": [],
      "authorship_tag": "ABX9TyPpvbXmO/TKWlJLe4bmnAah",
      "include_colab_link": true
    },
    "kernelspec": {
      "name": "python3",
      "display_name": "Python 3"
    },
    "language_info": {
      "name": "python"
    }
  },
  "cells": [
    {
      "cell_type": "markdown",
      "metadata": {
        "id": "view-in-github",
        "colab_type": "text"
      },
      "source": [
        "<a href=\"https://colab.research.google.com/github/fdotingco/PLNG211-QC/blob/main/Lab_Activity_2.ipynb\" target=\"_parent\"><img src=\"https://colab.research.google.com/assets/colab-badge.svg\" alt=\"Open In Colab\"/></a>"
      ]
    },
    {
      "cell_type": "code",
      "source": [
        "class Student:\n",
        "  def __init__(self, name, Student_No, Age, School, Course):\n",
        "    self.name = name\n",
        "    self.Student_No = Student_No\n",
        "    self.Age = Age\n",
        "    self.School = School\n",
        "    self.Course = Course\n",
        "class info(Student):\n",
        "  pass\n",
        "\n",
        "Myself = info(\"Frank\", 202212345, 20, \"OLFU\", \"BSCS\")   #Instantiation/add a value to an attribute\n",
        "print(\"The name of the Student is: \",Myself.name)\n",
        "print(\"The Student No of the Student is: \",Myself.Student_No)\n",
        "print(\"The age of the Student is: \",Myself.Age)\n",
        "print(\"The School of the Student is: \",Myself.School)\n",
        "print(\"The Course of the Student is: \",Myself.Course)"
      ],
      "metadata": {
        "colab": {
          "base_uri": "https://localhost:8080/"
        },
        "id": "1J6ek52TqhyG",
        "outputId": "6820c983-737a-422a-83f4-df56cc96f30d"
      },
      "execution_count": 7,
      "outputs": [
        {
          "output_type": "stream",
          "name": "stdout",
          "text": [
            "The name of the Student is:  Frank\n",
            "The Student No of the Student is:  202212345\n",
            "The age of the Student is:  20\n",
            "The School of the Student is:  OLFU\n",
            "The Course of the Student is:  BSCS\n"
          ]
        }
      ]
    }
  ]
}