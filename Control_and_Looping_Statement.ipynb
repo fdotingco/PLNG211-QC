{
  "nbformat": 4,
  "nbformat_minor": 0,
  "metadata": {
    "colab": {
      "provenance": [],
      "authorship_tag": "ABX9TyPxreeRmRtNsOuWW9AseLfb",
      "include_colab_link": true
    },
    "kernelspec": {
      "name": "python3",
      "display_name": "Python 3"
    },
    "language_info": {
      "name": "python"
    }
  },
  "cells": [
    {
      "cell_type": "markdown",
      "metadata": {
        "id": "view-in-github",
        "colab_type": "text"
      },
      "source": [
        "<a href=\"https://colab.research.google.com/github/fdotingco/PLNG211-QC/blob/main/Control_and_Looping_Statement.ipynb\" target=\"_parent\"><img src=\"https://colab.research.google.com/assets/colab-badge.svg\" alt=\"Open In Colab\"/></a>"
      ]
    },
    {
      "cell_type": "code",
      "execution_count": 8,
      "metadata": {
        "id": "GcQ42AJb1Kfa"
      },
      "outputs": [],
      "source": [
        "#If Statement\n",
        "\n",
        "a= 100\n",
        "b = 100\n",
        "\n",
        "if a<b:\n",
        "  print(\"a is less than b\")"
      ]
    },
    {
      "cell_type": "code",
      "source": [
        "#elif Statement\n",
        "\n",
        "if a<b:\n",
        "  print('a is less than b')\n",
        "elif a>b:\n",
        "  print('a is greater than b')\n"
      ],
      "metadata": {
        "id": "Kn8SGh_e3Z9J"
      },
      "execution_count": 9,
      "outputs": []
    },
    {
      "cell_type": "code",
      "source": [
        "#Else Statement\n",
        "if a<b:\n",
        "  print('a is less than b')\n",
        "elif a>b:\n",
        "  print('a is greater than b')\n",
        "else:\n",
        "  print('a is equal to b')"
      ],
      "metadata": {
        "colab": {
          "base_uri": "https://localhost:8080/"
        },
        "id": "ciW190y24Dng",
        "outputId": "982ee0d1-39d0-4a59-d2ed-f22b9853ce4e"
      },
      "execution_count": 10,
      "outputs": [
        {
          "output_type": "stream",
          "name": "stdout",
          "text": [
            "a is equal to b\n"
          ]
        }
      ]
    },
    {
      "cell_type": "code",
      "source": [
        "#Short Hand If Statement\n",
        "c = 5\n",
        "d = 10\n",
        "\n",
        "if c>d: print(\"c is greater than d\")"
      ],
      "metadata": {
        "id": "hWz1lGep4nhu"
      },
      "execution_count": 14,
      "outputs": []
    },
    {
      "cell_type": "code",
      "source": [
        "#Short Hand If...Else Statement\n",
        "print(\"c>d\") if c>d else print(\"c<d\")"
      ],
      "metadata": {
        "colab": {
          "base_uri": "https://localhost:8080/"
        },
        "id": "aksxh56e5IYv",
        "outputId": "cf890b78-bde5-44e5-9929-97fdfd71be95"
      },
      "execution_count": 15,
      "outputs": [
        {
          "output_type": "stream",
          "name": "stdout",
          "text": [
            "c<d\n"
          ]
        }
      ]
    },
    {
      "cell_type": "code",
      "source": [
        "#And Statement\n",
        "if 10>5 and 8>4:\n",
        "  print(\"Both statements are true\")\n",
        "else:\n",
        "  print(\"one or both of the statements are not true\")"
      ],
      "metadata": {
        "id": "8bzUCh7C6ZXq"
      },
      "execution_count": null,
      "outputs": []
    },
    {
      "cell_type": "code",
      "source": [
        "#Or Statement\n",
        "if 10>5 or 8>4:\n",
        "  print(\"True\")\n",
        "else:\n",
        "  print(\"False\")"
      ],
      "metadata": {
        "id": "6gGvXTcY6-Ui"
      },
      "execution_count": null,
      "outputs": []
    },
    {
      "cell_type": "code",
      "source": [
        "#Bitwise Operator ^(xor)\n",
        "e=4   #0100 in binary\n",
        "f=2   #0010 in binary\n",
        "\n",
        "e^f\n",
        "\n"
      ],
      "metadata": {
        "colab": {
          "base_uri": "https://localhost:8080/"
        },
        "id": "0TTKajAk7yPK",
        "outputId": "18cfa97e-c81e-4618-adf7-ee97fececc67"
      },
      "execution_count": 16,
      "outputs": [
        {
          "output_type": "execute_result",
          "data": {
            "text/plain": [
              "6"
            ]
          },
          "metadata": {},
          "execution_count": 16
        }
      ]
    },
    {
      "cell_type": "code",
      "source": [
        "#Nested If Statement\n",
        "\n",
        "x = 39\n",
        "if x>10:\n",
        "  print(\"number is above 10\")\n",
        "  if x>20:\n",
        "    print(\"number is above 20\")\n",
        "    if x>30:\n",
        "      print(\"number is above 30\")\n",
        "      if x>40:\n",
        "        print(\"number is above 40\")\n",
        "        if x>50:\n",
        "          print(\"number is above 50\")\n",
        "        else:\n",
        "          print(\"number is below 50\")\n",
        "      else:\n",
        "        print(\"number is below 40\")\n",
        "    else:\n",
        "      print(\"number is below 30\")"
      ],
      "metadata": {
        "colab": {
          "base_uri": "https://localhost:8080/"
        },
        "id": "NhSM-m729gwU",
        "outputId": "95eb6aae-c75e-4044-8658-e7c7c78f9e3c"
      },
      "execution_count": 19,
      "outputs": [
        {
          "output_type": "stream",
          "name": "stdout",
          "text": [
            "number is above 10\n",
            "number is above 20\n",
            "number is above 30\n",
            "number is below 40\n"
          ]
        }
      ]
    },
    {
      "cell_type": "code",
      "source": [
        "#Application 1. Write a program that determines if the input age is qualified to vote or not.\n",
        "#The qualifying age is 18 years old and above.\n",
        "\n",
        "age = int(input(\"Enter Age: \"))\n",
        "\n",
        "if age == 18 or age>18:\n",
        "  print(\"You are QUALIFIED to vote!\")\n",
        "else:\n",
        "  print(\"You are NOT qualified to vote!\")"
      ],
      "metadata": {
        "colab": {
          "base_uri": "https://localhost:8080/"
        },
        "id": "CP3xSiWa_NcD",
        "outputId": "914bb8aa-5cba-4486-ab6d-43a62e4a1cd7"
      },
      "execution_count": 40,
      "outputs": [
        {
          "output_type": "stream",
          "name": "stdout",
          "text": [
            "Enter Age: 30\n",
            "You are QUALIFIED to vote!\n"
          ]
        }
      ]
    },
    {
      "cell_type": "code",
      "source": [
        "#Application 2. Write a program that determines if the input number is POSITIVE, NEGATIVE, or Zero.\n",
        "num = int(input(\"Enter a number: \"))\n",
        "\n",
        "if num > 0:\n",
        "  print(\"The input number is POSITIVE\")\n",
        "elif num < 0:\n",
        "  print(\"The input number is NEGATIVE\")\n",
        "else:\n",
        "  print(\"The input number is ZERO\")"
      ],
      "metadata": {
        "colab": {
          "base_uri": "https://localhost:8080/"
        },
        "id": "H6xIPUooB3PF",
        "outputId": "7ba891b3-5e96-4843-f6ec-ee8f9176f1db"
      },
      "execution_count": 55,
      "outputs": [
        {
          "output_type": "stream",
          "name": "stdout",
          "text": [
            "Enter a number: 0\n",
            "The input number is ZERO\n"
          ]
        }
      ]
    },
    {
      "cell_type": "code",
      "source": [
        "#For loop Statement\n",
        "week =[\"Sunday\", \"Monday\", \"Tuesday\", \"Wednesday\", \"Thursday\", \"Friday\", \"Saturday\"]\n",
        "\n",
        "for y in week:\n",
        "  print(y)"
      ],
      "metadata": {
        "colab": {
          "base_uri": "https://localhost:8080/"
        },
        "id": "1BPET_zCCJgK",
        "outputId": "fa7ddf92-ece7-4633-e002-b57b0c459911"
      },
      "execution_count": 27,
      "outputs": [
        {
          "output_type": "stream",
          "name": "stdout",
          "text": [
            "Sunday\n",
            "Monday\n",
            "Tuesday\n",
            "Wednesday\n",
            "Thursday\n",
            "Friday\n",
            "Saturday\n"
          ]
        }
      ]
    },
    {
      "cell_type": "code",
      "source": [
        "#For loop Statement\n",
        "week =[\"Sunday\", \"Monday\", \"Tuesday\", \"Wednesday\", \"Thursday\", \"Friday\", \"Saturday\"]\n",
        "\n",
        "for y in week:\n",
        "  print(y)\n",
        "  if y == \"Thursday\":\n",
        "    break"
      ],
      "metadata": {
        "colab": {
          "base_uri": "https://localhost:8080/"
        },
        "id": "2MXgi3BBDnFI",
        "outputId": "1b9bde5c-eefa-45a2-c479-b6431c49d236"
      },
      "execution_count": 28,
      "outputs": [
        {
          "output_type": "stream",
          "name": "stdout",
          "text": [
            "Sunday\n",
            "Monday\n",
            "Tuesday\n",
            "Wednesday\n",
            "Thursday\n"
          ]
        }
      ]
    },
    {
      "cell_type": "code",
      "source": [
        "week =[\"Sunday\", \"Monday\", \"Tuesday\", \"Wednesday\", \"Thursday\", \"Friday\", \"Saturday\"]\n",
        "\n",
        "for y in week:\n",
        "  if y == \"Thursday\":\n",
        "    break\n",
        "  print(y)"
      ],
      "metadata": {
        "colab": {
          "base_uri": "https://localhost:8080/"
        },
        "id": "xO8dYLP9ESCs",
        "outputId": "abb16ea7-1bd8-4ccd-8fbd-e104837b0e0f"
      },
      "execution_count": 29,
      "outputs": [
        {
          "output_type": "stream",
          "name": "stdout",
          "text": [
            "Sunday\n",
            "Monday\n",
            "Tuesday\n",
            "Wednesday\n"
          ]
        }
      ]
    },
    {
      "cell_type": "code",
      "source": [
        "for x in \"week\":\n",
        "  print(x)"
      ],
      "metadata": {
        "colab": {
          "base_uri": "https://localhost:8080/"
        },
        "id": "WB_9SatsFFM6",
        "outputId": "9a6362dc-42b8-4c0e-ba7e-3b76421e6067"
      },
      "execution_count": 30,
      "outputs": [
        {
          "output_type": "stream",
          "name": "stdout",
          "text": [
            "w\n",
            "e\n",
            "e\n",
            "k\n"
          ]
        }
      ]
    },
    {
      "cell_type": "code",
      "source": [
        "#Range () Function\n",
        "for x in range(6):\n",
        "  print(x)"
      ],
      "metadata": {
        "colab": {
          "base_uri": "https://localhost:8080/"
        },
        "id": "ESq1zWPLFGf8",
        "outputId": "5426a07f-bb65-4078-dee8-ec16005442d3"
      },
      "execution_count": 31,
      "outputs": [
        {
          "output_type": "stream",
          "name": "stdout",
          "text": [
            "0\n",
            "1\n",
            "2\n",
            "3\n",
            "4\n",
            "5\n"
          ]
        }
      ]
    },
    {
      "cell_type": "code",
      "source": [
        "for x in range(2,6+1,1):\n",
        "  print(x)"
      ],
      "metadata": {
        "colab": {
          "base_uri": "https://localhost:8080/"
        },
        "id": "s3jGN8tLFZGF",
        "outputId": "f9d33fb3-b2c8-4458-cd32-9c8e75672fad"
      },
      "execution_count": 36,
      "outputs": [
        {
          "output_type": "stream",
          "name": "stdout",
          "text": [
            "2\n",
            "3\n",
            "4\n",
            "5\n",
            "6\n"
          ]
        }
      ]
    },
    {
      "cell_type": "code",
      "source": [
        "#Nested Loops\n",
        "adjective = [\"red\", \"big\", \"tasty\"]\n",
        "fruits = [\"apple\", \"banana\", \"cherry\"]\n",
        "\n",
        "for x in adjective:\n",
        "  for y in fruits:\n",
        "    print(x, y)"
      ],
      "metadata": {
        "colab": {
          "base_uri": "https://localhost:8080/"
        },
        "id": "Yq3XLsYkGAOT",
        "outputId": "366f00a0-ce51-45f8-a52a-bf34d420769d"
      },
      "execution_count": 37,
      "outputs": [
        {
          "output_type": "stream",
          "name": "stdout",
          "text": [
            "red apple\n",
            "red banana\n",
            "red cherry\n",
            "big apple\n",
            "big banana\n",
            "big cherry\n",
            "tasty apple\n",
            "tasty banana\n",
            "tasty cherry\n"
          ]
        }
      ]
    },
    {
      "cell_type": "code",
      "source": [
        "#Python While Loops\n",
        "i = 1\n",
        "while i<6:\n",
        "  print(i)\n",
        "  i+=1"
      ],
      "metadata": {
        "colab": {
          "base_uri": "https://localhost:8080/"
        },
        "id": "D8iRMqpnHEos",
        "outputId": "c9c73940-3ce4-4c3a-bc49-3e6fa6706128"
      },
      "execution_count": 38,
      "outputs": [
        {
          "output_type": "stream",
          "name": "stdout",
          "text": [
            "1\n",
            "2\n",
            "3\n",
            "4\n",
            "5\n"
          ]
        }
      ]
    },
    {
      "cell_type": "code",
      "source": [
        "i = 1\n",
        "while i<6:\n",
        "  print(i)\n",
        "  if i==3:\n",
        "    break\n",
        "  i+=1"
      ],
      "metadata": {
        "colab": {
          "base_uri": "https://localhost:8080/"
        },
        "id": "xPH2bCQSIKpX",
        "outputId": "cf28bbc3-f206-4c87-f7b7-a418aacf15c7"
      },
      "execution_count": 39,
      "outputs": [
        {
          "output_type": "stream",
          "name": "stdout",
          "text": [
            "1\n",
            "2\n",
            "3\n"
          ]
        }
      ]
    },
    {
      "cell_type": "code",
      "source": [
        "#Using While Loop and break statement, the output is only \"3\"\n",
        "i = 1\n",
        "while i<9:\n",
        "  if i==3:\n",
        "    print(i)\n",
        "    break\n",
        "  i += 1"
      ],
      "metadata": {
        "colab": {
          "base_uri": "https://localhost:8080/"
        },
        "id": "8AiKiq8cIkO4",
        "outputId": "7b3ebf1c-ae2d-4347-ce5b-1d79c26a9aa0"
      },
      "execution_count": 54,
      "outputs": [
        {
          "output_type": "stream",
          "name": "stdout",
          "text": [
            "3\n"
          ]
        }
      ]
    }
  ]
}