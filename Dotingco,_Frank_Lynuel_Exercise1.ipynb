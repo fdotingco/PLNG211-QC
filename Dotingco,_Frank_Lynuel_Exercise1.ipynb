{
  "nbformat": 4,
  "nbformat_minor": 0,
  "metadata": {
    "colab": {
      "provenance": [],
      "authorship_tag": "ABX9TyN5uyhEQ4RkalgqErW1z0sK",
      "include_colab_link": true
    },
    "kernelspec": {
      "name": "python3",
      "display_name": "Python 3"
    },
    "language_info": {
      "name": "python"
    }
  },
  "cells": [
    {
      "cell_type": "markdown",
      "metadata": {
        "id": "view-in-github",
        "colab_type": "text"
      },
      "source": [
        "<a href=\"https://colab.research.google.com/github/fdotingco/PLNG211-QC/blob/main/Dotingco%2C_Frank_Lynuel_Exercise1.ipynb\" target=\"_parent\"><img src=\"https://colab.research.google.com/assets/colab-badge.svg\" alt=\"Open In Colab\"/></a>"
      ]
    },
    {
      "cell_type": "code",
      "execution_count": 20,
      "metadata": {
        "colab": {
          "base_uri": "https://localhost:8080/"
        },
        "id": "uRfPxYBMakQd",
        "outputId": "3e818c3f-a66b-440a-d7d2-1fc9b5c6b9c7"
      },
      "outputs": [
        {
          "output_type": "stream",
          "name": "stdout",
          "text": [
            "26\n",
            "98\n",
            "62\n",
            "Sum:  186\n"
          ]
        }
      ],
      "source": [
        "#Exercise 1\n",
        "scores = [26,49,98,87,62,75]\n",
        "sum_even = 0\n",
        "for num in scores:\n",
        "  if (num % 2) == 0:\n",
        "    sum_even += num\n",
        "    print(num)\n",
        "\n",
        "print(\"Sum: \", sum_even)"
      ]
    }
  ]
}