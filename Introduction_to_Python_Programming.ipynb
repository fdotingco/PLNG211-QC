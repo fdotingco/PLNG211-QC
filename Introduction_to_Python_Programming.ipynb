{
  "nbformat": 4,
  "nbformat_minor": 0,
  "metadata": {
    "colab": {
      "provenance": [],
      "collapsed_sections": [],
      "authorship_tag": "ABX9TyPtWpIDT8+HjioZFfHIh/LN",
      "include_colab_link": true
    },
    "kernelspec": {
      "name": "python3",
      "display_name": "Python 3"
    },
    "language_info": {
      "name": "python"
    }
  },
  "cells": [
    {
      "cell_type": "markdown",
      "metadata": {
        "id": "view-in-github",
        "colab_type": "text"
      },
      "source": [
        "<a href=\"https://colab.research.google.com/github/fdotingco/PLNG211-QC/blob/main/Introduction_to_Python_Programming.ipynb\" target=\"_parent\"><img src=\"https://colab.research.google.com/assets/colab-badge.svg\" alt=\"Open In Colab\"/></a>"
      ]
    },
    {
      "cell_type": "markdown",
      "source": [
        "#Python Indentation"
      ],
      "metadata": {
        "id": "-5YN0f1GqZj9"
      }
    },
    {
      "cell_type": "code",
      "execution_count": 4,
      "metadata": {
        "colab": {
          "base_uri": "https://localhost:8080/"
        },
        "id": "PVYUg6nLp4pQ",
        "outputId": "c61747af-3f87-45d2-cae9-eef0c3f83e28"
      },
      "outputs": [
        {
          "output_type": "stream",
          "name": "stdout",
          "text": [
            "Five is greater than two\n",
            "Enter two numbers\n",
            "First number: 8\n",
            "Second number: 8\n",
            "The First number is equal to the second number!\n"
          ]
        }
      ],
      "source": [
        "#Thie is an example of Python Indentation\n",
        "\n",
        "if 5>2:\n",
        "  print(\"Five is greater than two\")\n",
        "\n",
        "#This is an example of idk\n",
        "\n",
        "print(\"Enter two numbers\")\n",
        "num1 = float(input(\"First number: \"))\n",
        "num2 = float(input(\"Second number: \"))\n",
        "\n",
        "if num1 > num2:\n",
        "  print(\"The First number is greater than the latter!\")\n",
        "elif num1 == num2:\n",
        "  print(\"The First number is equal to the second number!\")\n",
        "else:\n",
        "  print(\"The Second number is greater than the First number!\")"
      ]
    },
    {
      "cell_type": "markdown",
      "source": [
        "#Python Variable\n"
      ],
      "metadata": {
        "id": "exv-45lTs1vu"
      }
    },
    {
      "cell_type": "code",
      "source": [
        "from re import X\n",
        "x = 9\n",
        "print(x)\n",
        "x = 999"
      ],
      "metadata": {
        "colab": {
          "base_uri": "https://localhost:8080/"
        },
        "id": "fLdId3qSs6Z2",
        "outputId": "283617d2-11b1-4f7c-b4c2-587b610ff4a0"
      },
      "execution_count": 9,
      "outputs": [
        {
          "output_type": "stream",
          "name": "stdout",
          "text": [
            "9\n"
          ]
        }
      ]
    },
    {
      "cell_type": "markdown",
      "source": [
        "#Casting\n"
      ],
      "metadata": {
        "id": "Mgv_qcQlvzLm"
      }
    },
    {
      "cell_type": "code",
      "source": [
        "d = int(4)\n",
        "print(d)\n",
        "e = float(4)\n",
        "print(e)\n",
        "print(x)"
      ],
      "metadata": {
        "colab": {
          "base_uri": "https://localhost:8080/"
        },
        "id": "v3oOJF3kwAdJ",
        "outputId": "648c86d7-a216-446d-d24e-2440b78a4a33"
      },
      "execution_count": 10,
      "outputs": [
        {
          "output_type": "stream",
          "name": "stdout",
          "text": [
            "4\n",
            "4.0\n",
            "999\n"
          ]
        }
      ]
    },
    {
      "cell_type": "markdown",
      "source": [
        "#type() function"
      ],
      "metadata": {
        "id": "BJc-M2bxwBIo"
      }
    },
    {
      "cell_type": "code",
      "source": [
        "print(type(d))\n",
        "print(type(e))\n",
        "print(type(x))\n"
      ],
      "metadata": {
        "colab": {
          "base_uri": "https://localhost:8080/"
        },
        "id": "AN8M6fsrwDpF",
        "outputId": "986a4742-2200-428d-9643-c70f6a904f85"
      },
      "execution_count": 11,
      "outputs": [
        {
          "output_type": "stream",
          "name": "stdout",
          "text": [
            "<class 'int'>\n",
            "<class 'float'>\n",
            "<class 'int'>\n"
          ]
        }
      ]
    },
    {
      "cell_type": "markdown",
      "source": [
        "#Single quote or Double qoute"
      ],
      "metadata": {
        "id": "iBzMK-nhxaBW"
      }
    },
    {
      "cell_type": "code",
      "source": [
        "y = \"maria\"\n",
        "print(y)\n",
        "i = 'ana'\n",
        "print(i)\n"
      ],
      "metadata": {
        "colab": {
          "base_uri": "https://localhost:8080/"
        },
        "id": "V5R1AsIWxeM3",
        "outputId": "f386d540-6ecd-470d-d29f-42b8037f298a"
      },
      "execution_count": 12,
      "outputs": [
        {
          "output_type": "stream",
          "name": "stdout",
          "text": [
            "maria\n",
            "ana\n"
          ]
        }
      ]
    },
    {
      "cell_type": "code",
      "source": [],
      "metadata": {
        "id": "Em8GTk6Gxr58"
      },
      "execution_count": null,
      "outputs": []
    },
    {
      "cell_type": "markdown",
      "source": [
        "#Multiple Vairables"
      ],
      "metadata": {
        "id": "Rr4XZIG0xtHg"
      }
    },
    {
      "cell_type": "code",
      "source": [
        "x,y,z = 3,4,5\n",
        "print(x + y + z)\n",
        "print(x)\n",
        "print(y)\n",
        "print(z)"
      ],
      "metadata": {
        "colab": {
          "base_uri": "https://localhost:8080/"
        },
        "id": "sdOf3kcsxxoV",
        "outputId": "c8a1a08f-07c3-41a0-e574-e46ae229eda4"
      },
      "execution_count": 15,
      "outputs": [
        {
          "output_type": "stream",
          "name": "stdout",
          "text": [
            "12\n",
            "3\n",
            "4\n",
            "5\n"
          ]
        }
      ]
    },
    {
      "cell_type": "markdown",
      "source": [
        "Single Value to Multiple Variables"
      ],
      "metadata": {
        "id": "0n9U8kj0yoLP"
      }
    },
    {
      "cell_type": "code",
      "source": [
        "x=y=z=\"Python\"\n",
        "print(x)\n",
        "print(y)\n",
        "print(z)\n"
      ],
      "metadata": {
        "colab": {
          "base_uri": "https://localhost:8080/"
        },
        "id": "ls-WnwoayuT5",
        "outputId": "4401cc5c-c6cf-4cc8-ea14-6e77a28bb74b"
      },
      "execution_count": 21,
      "outputs": [
        {
          "output_type": "stream",
          "name": "stdout",
          "text": [
            "Python\n",
            "Python\n",
            "Python\n"
          ]
        }
      ]
    },
    {
      "cell_type": "markdown",
      "source": [
        "Output Variables\n"
      ],
      "metadata": {
        "id": "qSMecyU1yOoo"
      }
    },
    {
      "cell_type": "code",
      "source": [
        "s=\"Python is\"\n",
        "t = \"enjoying\"\n",
        "print(s + \" \" + t)\n"
      ],
      "metadata": {
        "colab": {
          "base_uri": "https://localhost:8080/"
        },
        "id": "yJagJYWAyUW5",
        "outputId": "01ead810-5133-4441-9b9e-6cb71b6f9010"
      },
      "execution_count": 19,
      "outputs": [
        {
          "output_type": "stream",
          "name": "stdout",
          "text": [
            "Python is enjoying\n"
          ]
        }
      ]
    },
    {
      "cell_type": "markdown",
      "source": [
        "Arithmetic operations"
      ],
      "metadata": {
        "id": "qGkEQ5ySzruD"
      }
    },
    {
      "cell_type": "code",
      "source": [
        "y = 5\n",
        "x = 6\n",
        "\n",
        "print(x + y)\n",
        "print(\"x - y\")\n",
        "print(x * y)\n",
        "print(float(x / y))\n",
        "print(x ** y)\n",
        "print(x % y)\n",
        "print(x // y)\n",
        "\n",
        "#Modulo Division\n",
        "modulo = x % y\n",
        "print(\"Modulo Division: x % y= \" + str(modulo))\n",
        "\n"
      ],
      "metadata": {
        "colab": {
          "base_uri": "https://localhost:8080/"
        },
        "id": "hDf5PAnXzv4G",
        "outputId": "a361a7a3-bd1a-4bbd-c350-bdd2bcc2b58b"
      },
      "execution_count": 27,
      "outputs": [
        {
          "output_type": "stream",
          "name": "stdout",
          "text": [
            "11\n",
            "x - y\n",
            "30\n",
            "1.2\n",
            "7776\n",
            "1\n",
            "1\n",
            "Modulo Division: x % y= 1\n"
          ]
        }
      ]
    },
    {
      "cell_type": "markdown",
      "source": [
        "#Assignment Operator"
      ],
      "metadata": {
        "id": "imnPkc1C2TKN"
      }
    },
    {
      "cell_type": "code",
      "source": [
        "x = 2\n",
        "x += 1\n",
        "print(x)\n",
        "print(x + 1)\n"
      ],
      "metadata": {
        "colab": {
          "base_uri": "https://localhost:8080/"
        },
        "id": "ZTOPmRaV2WUW",
        "outputId": "d708c402-ba80-47b9-818e-7092b41d57d2"
      },
      "execution_count": 30,
      "outputs": [
        {
          "output_type": "stream",
          "name": "stdout",
          "text": [
            "3\n",
            "4\n"
          ]
        }
      ]
    },
    {
      "cell_type": "markdown",
      "source": [
        "Logical Operators"
      ],
      "metadata": {
        "id": "ShYalZOM3egK"
      }
    },
    {
      "cell_type": "code",
      "source": [
        "p = 6\n",
        "q = 7\n",
        "r = 9\n",
        "\n",
        "print(p>q)\n",
        "print(p and q > r)"
      ],
      "metadata": {
        "colab": {
          "base_uri": "https://localhost:8080/"
        },
        "id": "Vqg1gjS63ht_",
        "outputId": "2f8cc0e3-25b6-43e7-d59a-5ed70a17b7d6"
      },
      "execution_count": 32,
      "outputs": [
        {
          "output_type": "stream",
          "name": "stdout",
          "text": [
            "False\n",
            "False\n"
          ]
        }
      ]
    }
  ]
}