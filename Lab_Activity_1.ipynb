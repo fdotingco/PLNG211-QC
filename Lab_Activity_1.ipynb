{
  "nbformat": 4,
  "nbformat_minor": 0,
  "metadata": {
    "colab": {
      "provenance": [],
      "authorship_tag": "ABX9TyOpUNQG/H+UXzv7ejUywSZk",
      "include_colab_link": true
    },
    "kernelspec": {
      "name": "python3",
      "display_name": "Python 3"
    },
    "language_info": {
      "name": "python"
    }
  },
  "cells": [
    {
      "cell_type": "markdown",
      "metadata": {
        "id": "view-in-github",
        "colab_type": "text"
      },
      "source": [
        "<a href=\"https://colab.research.google.com/github/fdotingco/PLNG211-QC/blob/main/Lab_Activity_1.ipynb\" target=\"_parent\"><img src=\"https://colab.research.google.com/assets/colab-badge.svg\" alt=\"Open In Colab\"/></a>"
      ]
    },
    {
      "cell_type": "code",
      "execution_count": 11,
      "metadata": {
        "colab": {
          "base_uri": "https://localhost:8080/"
        },
        "id": "5FirUyY4Qd-8",
        "outputId": "d9a5bd85-7084-42fc-a854-243f440a4fab"
      },
      "outputs": [
        {
          "output_type": "stream",
          "name": "stdout",
          "text": [
            "Array[0]: 12\n",
            "Array[1]: 23\n",
            "Array[2]: 34\n",
            "Array[3]: 45\n",
            "Array[4]: 56\n",
            "Array[5]: 67\n",
            "Array[6]: 78\n",
            "Array[7]: 89\n",
            "Array[8]: 90\n",
            "Array[9]: 21\n",
            "\n",
            "Sum:  515\n"
          ]
        }
      ],
      "source": [
        "#1. Write a Python program to create an array of 10 integers and display the array items. \n",
        "#Access individual elements through indexes and compute for the sum.\n",
        "\n",
        "array = [12,23,34,45,56,67,78,89,90,21]\n",
        "      \n",
        "print(\"Array[0]:\",array[0])\n",
        "print(\"Array[1]:\",array[1])\n",
        "print(\"Array[2]:\",array[2])\n",
        "print(\"Array[3]:\",array[3])\n",
        "print(\"Array[4]:\",array[4])\n",
        "print(\"Array[5]:\",array[5])\n",
        "print(\"Array[6]:\",array[6])\n",
        "print(\"Array[7]:\",array[7])\n",
        "print(\"Array[8]:\",array[8])\n",
        "print(\"Array[9]:\",array[9])\n",
        "\n",
        "print(\"\\nSum: \",sum(array))\n"
      ]
    },
    {
      "cell_type": "code",
      "source": [
        "#2.\tWrite a Python program to append a new item to the end of the array. \n",
        "\n",
        "#Original array:\n",
        "numbers = [1, 2, 3, 4, 5, 6, 7, 8, 9, 10]\n",
        "\n",
        "element=int(input())\n",
        "numbers.append(element)\n",
        "print(\"\\nNew Array with appended element:\", numbers)"
      ],
      "metadata": {
        "colab": {
          "base_uri": "https://localhost:8080/"
        },
        "id": "tA-kp0hc2-un",
        "outputId": "a8d466a8-cdc1-4c0b-ada6-01ed533670f6"
      },
      "execution_count": 16,
      "outputs": [
        {
          "output_type": "stream",
          "name": "stdout",
          "text": [
            "12\n",
            "\n",
            "New Array with appended element: [1, 2, 3, 4, 5, 6, 7, 8, 9, 10, 12]\n"
          ]
        }
      ]
    },
    {
      "cell_type": "code",
      "source": [
        "#3.\tWrite a Python program to insert a new item before the second element in an existing array. \n",
        "\n",
        "#Original array:\n",
        "numbers = [1, 2, 3, 4, 5, 6, 7, 8, 9, 10]\n",
        "\n",
        "numbers.insert(1,int(input()))\n",
        "print(\"\\nNew Array with inserted element:\", numbers)"
      ],
      "metadata": {
        "colab": {
          "base_uri": "https://localhost:8080/"
        },
        "id": "e-A0ISh430GZ",
        "outputId": "6ca0d140-2a4d-4fa8-857f-739daba29ccc"
      },
      "execution_count": 19,
      "outputs": [
        {
          "output_type": "stream",
          "name": "stdout",
          "text": [
            "99\n",
            "\n",
            "New Array with appended element: [1, 99, 2, 3, 4, 5, 6, 7, 8, 9, 10]\n"
          ]
        }
      ]
    },
    {
      "cell_type": "code",
      "source": [
        "#4.\tWrite a Python program to reverse the order of the items in the array. \n",
        "\n",
        "#Original array:\n",
        "numbers = [5, 4, 3, 2, 1]\n",
        "print(\"\\nOriginal Array:\", numbers)\n",
        "numbers.reverse()\n",
        "print(\"\\nReversed Array:\", numbers)"
      ],
      "metadata": {
        "colab": {
          "base_uri": "https://localhost:8080/"
        },
        "id": "ilF6UyDK8Hpv",
        "outputId": "3697593a-58d7-4367-c1db-f3ef64f0c323"
      },
      "execution_count": 22,
      "outputs": [
        {
          "output_type": "stream",
          "name": "stdout",
          "text": [
            "\n",
            "Original Array: [5, 4, 3, 2, 1]\n",
            "\n",
            "Reversed Array: [1, 2, 3, 4, 5]\n"
          ]
        }
      ]
    },
    {
      "cell_type": "code",
      "source": [
        "#5.\tWrite a Python program to get the length of the array.\n",
        "\n",
        "#Original array:\n",
        "numbers = [5, 4, 3, 2, 1]\n",
        "print(\"Lenght: \",len(numbers))"
      ],
      "metadata": {
        "colab": {
          "base_uri": "https://localhost:8080/"
        },
        "id": "M7qcmecK9qPw",
        "outputId": "6c118fd0-4af8-416b-af91-9856856f5ef0"
      },
      "execution_count": 23,
      "outputs": [
        {
          "output_type": "stream",
          "name": "stdout",
          "text": [
            "Lenght:  5\n"
          ]
        }
      ]
    }
  ]
}