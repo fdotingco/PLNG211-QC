{
  "nbformat": 4,
  "nbformat_minor": 0,
  "metadata": {
    "colab": {
      "provenance": [],
      "authorship_tag": "ABX9TyP8Od47OUs7vbBCtSCkNw8M",
      "include_colab_link": true
    },
    "kernelspec": {
      "name": "python3",
      "display_name": "Python 3"
    },
    "language_info": {
      "name": "python"
    }
  },
  "cells": [
    {
      "cell_type": "markdown",
      "metadata": {
        "id": "view-in-github",
        "colab_type": "text"
      },
      "source": [
        "<a href=\"https://colab.research.google.com/github/fdotingco/PLNG211-QC/blob/main/Class_and_Object.ipynb\" target=\"_parent\"><img src=\"https://colab.research.google.com/assets/colab-badge.svg\" alt=\"Open In Colab\"/></a>"
      ]
    },
    {
      "cell_type": "code",
      "execution_count": null,
      "metadata": {
        "colab": {
          "base_uri": "https://localhost:8080/"
        },
        "id": "N-Q_RZpZPyf6",
        "outputId": "35a89c0c-6fc3-4277-ccdc-1f08f979f345"
      },
      "outputs": [
        {
          "output_type": "stream",
          "name": "stdout",
          "text": [
            "The name of the person is: Frank\n",
            "The age of the person is: 20\n",
            "\n",
            "The name of the Student is: Ana\n",
            "The age of the Student is: 19\n",
            "\n",
            "The name of the Teacher is: Maria\n",
            "The age of the Teacher is: 35\n"
          ]
        }
      ],
      "source": [
        "class Person:\n",
        "  def __init__(self, name, age):\n",
        "    self.name = name          #Attributes\n",
        "    self.age = age\n",
        "\n",
        "class Student(Person):\n",
        "    pass\n",
        "\n",
        "class Teacher(Person):\n",
        "  pass\n",
        "person1 = Person(\"Frank\", 20)   #Instantiation/add a value to an attribute\n",
        "print(\"The name of the person is:\",person1.name)\n",
        "print(\"The age of the person is:\",person1.age)\n",
        "\n",
        "person2 = Student(\"Ana\", 19)    #inheritance\n",
        "print(\"\\nThe name of the Student is:\",person2.name)\n",
        "print(\"The age of the Student is:\",person2.age)\n",
        "\n",
        "person3 = Teacher(\"Maria\", 35)\n",
        "print(\"\\nThe name of the Teacher is:\",person3.name)\n",
        "print(\"The age of the Teacher is:\",person3.age)"
      ]
    },
    {
      "cell_type": "code",
      "source": [
        "person1.age = 21\n",
        "print(\"The name and age of the student is:\",person2.name,person2.age)"
      ],
      "metadata": {
        "colab": {
          "base_uri": "https://localhost:8080/"
        },
        "id": "22yc_IahVqOF",
        "outputId": "1e3707dc-d43a-4c94-d253-ac1aa19b04fc"
      },
      "execution_count": null,
      "outputs": [
        {
          "output_type": "stream",
          "name": "stdout",
          "text": [
            "The name and age of the student is: Ana 19\n"
          ]
        }
      ]
    },
    {
      "cell_type": "code",
      "source": [
        "print(\"The student\",person2.name, \"is\", person2.age, \"yo\")"
      ],
      "metadata": {
        "colab": {
          "base_uri": "https://localhost:8080/"
        },
        "id": "ttl7DF1FXBR2",
        "outputId": "cd2aa0d4-6eb7-499f-9d71-b7cd5b0c980c"
      },
      "execution_count": null,
      "outputs": [
        {
          "output_type": "stream",
          "name": "stdout",
          "text": [
            "The student Ana is 19 yo\n"
          ]
        }
      ]
    },
    {
      "cell_type": "code",
      "source": [
        "print(\"The name of the Teacher is\", person3.name)\n",
        "print(\"The age of the Teacher is\", person3.age)"
      ],
      "metadata": {
        "colab": {
          "base_uri": "https://localhost:8080/"
        },
        "id": "pko1LPKNX3Le",
        "outputId": "542f6045-6a70-4419-bc6a-c068e44d9d7f"
      },
      "execution_count": null,
      "outputs": [
        {
          "output_type": "stream",
          "name": "stdout",
          "text": [
            "The name of the Teacher is Maria\n",
            "The age of the Teacher is 35\n"
          ]
        }
      ]
    },
    {
      "cell_type": "code",
      "source": [
        "del person3.age\n",
        "del person3.name\n",
        "\n",
        "print(\"The name of the Teacher is\", person3.name)\n",
        "print(\"The age of the Teacher is\", person3.age)"
      ],
      "metadata": {
        "colab": {
          "base_uri": "https://localhost:8080/",
          "height": 217
        },
        "id": "Cjf68TUMYzG9",
        "outputId": "66d5d1aa-0ad0-4b36-f4c1-2dc4057ccf94"
      },
      "execution_count": null,
      "outputs": [
        {
          "output_type": "error",
          "ename": "AttributeError",
          "evalue": "ignored",
          "traceback": [
            "\u001b[0;31m---------------------------------------------------------------------------\u001b[0m",
            "\u001b[0;31mAttributeError\u001b[0m                            Traceback (most recent call last)",
            "\u001b[0;32m<ipython-input-15-9592d58f81ff>\u001b[0m in \u001b[0;36m<module>\u001b[0;34m\u001b[0m\n\u001b[1;32m      2\u001b[0m \u001b[0;32mdel\u001b[0m \u001b[0mperson3\u001b[0m\u001b[0;34m.\u001b[0m\u001b[0mname\u001b[0m\u001b[0;34m\u001b[0m\u001b[0;34m\u001b[0m\u001b[0m\n\u001b[1;32m      3\u001b[0m \u001b[0;34m\u001b[0m\u001b[0m\n\u001b[0;32m----> 4\u001b[0;31m \u001b[0mprint\u001b[0m\u001b[0;34m(\u001b[0m\u001b[0;34m\"The name of the Teacher is\"\u001b[0m\u001b[0;34m,\u001b[0m \u001b[0mperson3\u001b[0m\u001b[0;34m.\u001b[0m\u001b[0mname\u001b[0m\u001b[0;34m)\u001b[0m\u001b[0;34m\u001b[0m\u001b[0;34m\u001b[0m\u001b[0m\n\u001b[0m\u001b[1;32m      5\u001b[0m \u001b[0mprint\u001b[0m\u001b[0;34m(\u001b[0m\u001b[0;34m\"The age of the Teacher is\"\u001b[0m\u001b[0;34m,\u001b[0m \u001b[0mperson3\u001b[0m\u001b[0;34m.\u001b[0m\u001b[0mage\u001b[0m\u001b[0;34m)\u001b[0m\u001b[0;34m\u001b[0m\u001b[0;34m\u001b[0m\u001b[0m\n",
            "\u001b[0;31mAttributeError\u001b[0m: 'Teacher' object has no attribute 'name'"
          ]
        }
      ]
    },
    {
      "cell_type": "code",
      "source": [
        "#Application 1. Write a rectangle class in python language with length and width as attributes\n",
        "#Create a Perimeter () and Area () as methods to compute for the perimeter and area of a rectangle\n",
        "\n",
        "class Rectangle:\n",
        "  def __init__(self, length, width):\n",
        "    self.length = length          #Attributes\n",
        "    self.width = width\n",
        "\n",
        "def Perimeter(length, width):\n",
        "    return 2*(length + width)\n",
        "\n",
        "def Area(length, width):\n",
        "    return length*width\n",
        "\n",
        "\n",
        "\n",
        "rectangle1 = Rectangle(40, 20)   #Instantiation/add a value to an attribute\n",
        "print(\"The length of the Rectangle is:\",rectangle1.length)\n",
        "print(\"The age of the Rectangle is:\",rectangle1.width)\n",
        "print(\"The Perimeter of the Rectangle is:\",Perimeter(rectangle1.length, rectangle1.width))\n",
        "print(\"The Area of the Rectangle is:\",Area(rectangle1.length,rectangle1.width))\n",
        "\n",
        "rectangle2 = Rectangle(333, 222)   #Instantiation/add a value to an attribute\n",
        "print(\"\\nThe length of the Rectangle is:\",rectangle2.length)\n",
        "print(\"The age of the Rectangle is:\",rectangle2.width)\n",
        "print(\"The Perimeter of the Rectangle is:\",Perimeter(rectangle2.length, rectangle2.width))\n",
        "print(\"The Area of the Rectangle is:\",Area(rectangle2.length,rectangle2.width))"
      ],
      "metadata": {
        "id": "6k6L2GczY6G_",
        "colab": {
          "base_uri": "https://localhost:8080/"
        },
        "outputId": "86036013-ac26-4ece-86a6-080f7620ef48"
      },
      "execution_count": 23,
      "outputs": [
        {
          "output_type": "stream",
          "name": "stdout",
          "text": [
            "The length of the Rectangle is: 40\n",
            "The age of the Rectangle is: 20\n",
            "The Perimeter of the Rectangle is: 120\n",
            "The Area of the Rectangle is: 800\n",
            "\n",
            "The length of the Rectangle is: 333\n",
            "The age of the Rectangle is: 222\n",
            "The Perimeter of the Rectangle is: 1110\n",
            "The Area of the Rectangle is: 73926\n"
          ]
        }
      ]
    }
  ]
}