{
  "nbformat": 4,
  "nbformat_minor": 0,
  "metadata": {
    "colab": {
      "provenance": [],
      "authorship_tag": "ABX9TyNAaVYZfHlbhi9WfhKfVeOn",
      "include_colab_link": true
    },
    "kernelspec": {
      "name": "python3",
      "display_name": "Python 3"
    },
    "language_info": {
      "name": "python"
    }
  },
  "cells": [
    {
      "cell_type": "markdown",
      "metadata": {
        "id": "view-in-github",
        "colab_type": "text"
      },
      "source": [
        "<a href=\"https://colab.research.google.com/github/fdotingco/PLNG211-QC/blob/main/Operations_and_Expressions_in_Python.ipynb\" target=\"_parent\"><img src=\"https://colab.research.google.com/assets/colab-badge.svg\" alt=\"Open In Colab\"/></a>"
      ]
    },
    {
      "cell_type": "markdown",
      "source": [
        "Boolean Operators(True of False)"
      ],
      "metadata": {
        "id": "R2qQBe0bi-lf"
      }
    },
    {
      "cell_type": "code",
      "execution_count": null,
      "metadata": {
        "id": "VIqIb6rMhsuU"
      },
      "outputs": [],
      "source": [
        "a=10\n",
        "b=10\n",
        "print(10>9)\n",
        "print(10==9)\n",
        "print(10< 9)\n",
        "print(a!=b)"
      ]
    },
    {
      "cell_type": "markdown",
      "source": [
        "bool() function"
      ],
      "metadata": {
        "id": "bjh6QKe_jnMJ"
      }
    },
    {
      "cell_type": "code",
      "source": [
        "print(bool(15))\n",
        "print(bool(\"Frank\"))\n",
        "\n",
        "print(bool(0))\n",
        "print(bool())\n"
      ],
      "metadata": {
        "id": "zQaM18Z9jrou"
      },
      "execution_count": null,
      "outputs": []
    },
    {
      "cell_type": "markdown",
      "source": [
        "Functions that return a boolean"
      ],
      "metadata": {
        "id": "E27ICHBRlgqN"
      }
    },
    {
      "cell_type": "code",
      "source": [
        "def my_Function():\n",
        "  return True\n",
        "\n",
        "if (my_Function()):\n",
        "  print(\"YES\")\n",
        "\n",
        "else:\n",
        "  print(\"NO\")\n",
        "  "
      ],
      "metadata": {
        "id": "Z-35_DEoljVd"
      },
      "execution_count": null,
      "outputs": []
    },
    {
      "cell_type": "markdown",
      "source": [
        "Application 1"
      ],
      "metadata": {
        "id": "HLn2KYWKmwKI"
      }
    },
    {
      "cell_type": "code",
      "source": [
        "c=6\n",
        "d=7\n",
        "print(c==d)\n",
        "print(c!=c)\n",
        "print(a==b)"
      ],
      "metadata": {
        "id": "KbFlRICrmj11"
      },
      "execution_count": null,
      "outputs": []
    },
    {
      "cell_type": "code",
      "source": [
        "i=0\n",
        "while i<10:\n",
        "  print(i)\n",
        "  i = i + 1"
      ],
      "metadata": {
        "id": "tN8qZrONnMAl"
      },
      "execution_count": null,
      "outputs": []
    },
    {
      "cell_type": "markdown",
      "source": [
        "Python Operators"
      ],
      "metadata": {
        "id": "pu5ODXOaoZnM"
      }
    },
    {
      "cell_type": "code",
      "source": [
        "b=5\n",
        "print(a+b)\n",
        "print(a-b)\n",
        "print(a*b)\n",
        "print(a/5)\n",
        "print(a%b)\n",
        "print(a//b)\n",
        "print(b**2)"
      ],
      "metadata": {
        "id": "hmvMLZeToehv"
      },
      "execution_count": null,
      "outputs": []
    },
    {
      "cell_type": "markdown",
      "source": [
        "Python Bitwise Operators"
      ],
      "metadata": {
        "id": "9O1v_NL6qKVN"
      }
    },
    {
      "cell_type": "code",
      "source": [
        "e=60\n",
        "f=13\n",
        "print(e&f)\n",
        "print(e^f)\n",
        "print(e>>f)"
      ],
      "metadata": {
        "id": "n8OjSdexqPBg"
      },
      "execution_count": null,
      "outputs": []
    },
    {
      "cell_type": "markdown",
      "source": [
        "Python Assignment Operators"
      ],
      "metadata": {
        "id": "twrNvgK2s311"
      }
    },
    {
      "cell_type": "code",
      "source": [
        "x=10\n",
        "x+=3\n",
        "print(\"x =\",x)\n",
        "x-=3\n",
        "print(\"x =\",x)"
      ],
      "metadata": {
        "colab": {
          "base_uri": "https://localhost:8080/"
        },
        "id": "Q-U_i0AJs6-F",
        "outputId": "241df5dc-9b86-478d-f4e4-52c1450c00bd"
      },
      "execution_count": 51,
      "outputs": [
        {
          "output_type": "stream",
          "name": "stdout",
          "text": [
            "x = 13\n",
            "x = 10\n"
          ]
        }
      ]
    },
    {
      "cell_type": "markdown",
      "source": [
        "Logical Operators"
      ],
      "metadata": {
        "id": "ki2TqoXeut6t"
      }
    },
    {
      "cell_type": "code",
      "source": [
        "print((4>3) and (6==5))   #and\n",
        "print((4>3) or (5!=5))    #or"
      ],
      "metadata": {
        "colab": {
          "base_uri": "https://localhost:8080/"
        },
        "id": "GSqo09cSuxc9",
        "outputId": "7d36fc70-4f29-4e95-cd1b-5aae4aa3c466"
      },
      "execution_count": 56,
      "outputs": [
        {
          "output_type": "stream",
          "name": "stdout",
          "text": [
            "False\n",
            "True\n"
          ]
        }
      ]
    },
    {
      "cell_type": "markdown",
      "source": [
        "Identity Operators"
      ],
      "metadata": {
        "id": "g31yhJRsvrUl"
      }
    },
    {
      "cell_type": "code",
      "source": [
        "print(4 is 3)\n",
        "print(7 is not 7)\n",
        "print(7 is not 9)"
      ],
      "metadata": {
        "colab": {
          "base_uri": "https://localhost:8080/"
        },
        "id": "thc6H_gQvuk4",
        "outputId": "9d66dfbf-053f-41ec-9234-4898ede2fdeb"
      },
      "execution_count": 59,
      "outputs": [
        {
          "output_type": "stream",
          "name": "stdout",
          "text": [
            "False\n",
            "False\n",
            "True\n"
          ]
        }
      ]
    },
    {
      "cell_type": "markdown",
      "source": [],
      "metadata": {
        "id": "TcsRlT3IwEzd"
      }
    }
  ]
}